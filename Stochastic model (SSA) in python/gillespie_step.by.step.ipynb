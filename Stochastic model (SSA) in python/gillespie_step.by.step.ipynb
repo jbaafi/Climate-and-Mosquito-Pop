{
 "cells": [
  {
   "cell_type": "code",
   "execution_count": 1,
   "id": "2300e7e8",
   "metadata": {},
   "outputs": [],
   "source": [
    "# Importing packages\n",
    "import numpy as np\n",
    "import matplotlib\n",
    "matplotlib.use('tkagg')\n",
    "import matplotlib.pyplot as plt\n",
    "import random"
   ]
  },
  {
   "cell_type": "code",
   "execution_count": 2,
   "id": "86b979a6",
   "metadata": {},
   "outputs": [
    {
     "name": "stdout",
     "output_type": "stream",
     "text": [
      "CPU times: user 11 µs, sys: 1 µs, total: 12 µs\n",
      "Wall time: 17.2 µs\n"
     ]
    }
   ],
   "source": [
    "%%time\n",
    "# Define initial states\n",
    "E = [1]\n",
    "L = [1]\n",
    "P = [1]\n",
    "A = [1]\n",
    "\n",
    "# Initial(starting) time\n",
    "t = [0]\n",
    "\n",
    "#Time to end the simulation\n",
    "tend = 10\n",
    "\n",
    "#Parameter values\n",
    "alpha_b = 100    # average number of eggs laid per oviposition (source: CDC)\n",
    "phi = 1/4 #0.051 # oviposition rate per adult mosquito (source: https://www.pascomosquito.org/resources/mosquito-biology/, https://megacatch.com/mosquito-lifecycle-faqs/)\n",
    "delta_E = 1/2    # hatching rate of eggs into larvae\n",
    "delta_L = 1/5    # development rate of larvae into pupae\n",
    "delta_P = 1/2    # development rate of pupae into adult\n",
    "k = 1/2          # fraction of juviniles becoming adult females\n",
    "mu_E = 0.01      # egg mortality rate\n",
    "mu_L = 0.01      # larva mortality rate\n",
    "mu_P = 0.01      # pupal mortality rate\n",
    "mu_A = 1/42      # mortality rate of adult mosquitoes (source: https://www.vdci.net/mosquito-biology-101-life-cycle/)"
   ]
  },
  {
   "cell_type": "code",
   "execution_count": 3,
   "id": "dd485cd2",
   "metadata": {
    "scrolled": true
   },
   "outputs": [
    {
     "name": "stdout",
     "output_type": "stream",
     "text": [
      "CPU times: user 115 ms, sys: 5.33 ms, total: 121 ms\n",
      "Wall time: 120 ms\n"
     ]
    }
   ],
   "source": [
    "%%time\n",
    "while t[-1] < tend:\n",
    "\n",
    "        rates = [ alpha_b * phi * A[-1], delta_E * E[-1], delta_L * L[-1], k * delta_P * P[-1], \\\n",
    "                mu_E * E[-1], mu_L * L[-1], mu_P * P[-1], mu_A * A[-1]]\n",
    "\n",
    "        rate_sum = sum(rates)\n",
    "        if rate_sum == 0:\n",
    "                break\n",
    "\n",
    "        tau = np.random.exponential(scale=1/rate_sum)\n",
    "\n",
    "        t.append(t[-1] + tau)\n",
    "\n",
    "        rand = random.uniform(0,1)\n",
    "        \n",
    "        \n",
    "        # Egg oviposition event\n",
    "        if rand * rate_sum <= rates[0]:\n",
    "            \n",
    "                E.append(E[-1] + 1)\n",
    "                L.append(L[-1])\n",
    "                P.append(P[-1])\n",
    "                A.append(A[-1])\n",
    "        \n",
    "        # Hatching of eggs and development of larvae event\n",
    "        elif rand * rate_sum > rates[0] and rand * rate_sum <= sum(rates[:2]):\n",
    "            \n",
    "                E.append(E[-1] - 1)\n",
    "                L.append(L[-1] + 1)\n",
    "                P.append(P[-1])\n",
    "                A.append(A[-1])\n",
    "                \n",
    "        # Development of larvae into pupae event\n",
    "        elif rand * rate_sum > sum(rates[:2]) and rand * rate_sum <= sum(rates[:3]):\n",
    "\n",
    "                E.append(E[-1])\n",
    "                L.append(L[-1] - 1)\n",
    "                P.append(P[-1] + 1)\n",
    "                A.append(A[-1])\n",
    "\n",
    "        # Development of pupa into adults event\n",
    "        elif rand * rate_sum > sum(rates[:3]) and rand * rate_sum <= sum(rates[:4]):\n",
    "\n",
    "                E.append(E[-1])\n",
    "                L.append(L[-1])\n",
    "                P.append(P[-1] - 1)\n",
    "                A.append(A[-1] + 1)\n",
    "\n",
    "        # Egg mortality event\n",
    "        elif rand * rate_sum > sum(rates[:4]) and rand * rate_sum <= sum(rates[:5]):\n",
    "\n",
    "                E.append(E[-1] - 1)\n",
    "                L.append(L[-1])\n",
    "                P.append(P[-1])\n",
    "                A.append(A[-1])\n",
    "\n",
    "        # Larvae mortality event\n",
    "        elif rand * rate_sum > sum(rates[:5]) and rand * rate_sum <= sum(rates[:6]):\n",
    "            \n",
    "                E.append(E[-1])\n",
    "                L.append(L[-1] - 1)\n",
    "                P.append(P[-1])\n",
    "                A.append(A[-1])\n",
    "        \n",
    "        \n",
    "        # Pupae mortality event\n",
    "        elif rand * rate_sum > sum(rates[:6]) and rand * rate_sum <= sum(rates[:7]):\n",
    "\n",
    "                E.append(E[-1])\n",
    "                L.append(L[-1])\n",
    "                P.append(P[-1] - 1)\n",
    "                A.append(A[-1])\n",
    "\n",
    "        # Adult mortality event\n",
    "        elif rand * rate_sum > sum(rates[:7]) and rand * rate_sum <= sum(rates[:8]):\n",
    "            \n",
    "                E.append(E[-1])\n",
    "                L.append(L[-1])\n",
    "                P.append(P[-1])\n",
    "                A.append(A[-1] - 1)\n"
   ]
  },
  {
   "cell_type": "code",
   "execution_count": 7,
   "id": "e3358c82",
   "metadata": {},
   "outputs": [
    {
     "data": {
      "text/plain": [
       "579"
      ]
     },
     "execution_count": 7,
     "metadata": {},
     "output_type": "execute_result"
    }
   ],
   "source": [
    "P[-1]"
   ]
  },
  {
   "cell_type": "code",
   "execution_count": 8,
   "id": "ab983221",
   "metadata": {},
   "outputs": [
    {
     "ename": "SystemExit",
     "evalue": "0",
     "output_type": "error",
     "traceback": [
      "\u001b[0;31m---------------------------------------------------------------------------\u001b[0m",
      "\u001b[0;31mSystemExit\u001b[0m                                Traceback (most recent call last)",
      "\u001b[0;32m<timed exec>\u001b[0m in \u001b[0;36m<module>\u001b[0;34m\u001b[0m\n",
      "\u001b[0;32m~/anaconda3/lib/python3.8/site-packages/matplotlib/pyplot.py\u001b[0m in \u001b[0;36mshow\u001b[0;34m(*args, **kwargs)\u001b[0m\n\u001b[1;32m    351\u001b[0m     \"\"\"\n\u001b[1;32m    352\u001b[0m     \u001b[0m_warn_if_gui_out_of_main_thread\u001b[0m\u001b[0;34m(\u001b[0m\u001b[0;34m)\u001b[0m\u001b[0;34m\u001b[0m\u001b[0;34m\u001b[0m\u001b[0m\n\u001b[0;32m--> 353\u001b[0;31m     \u001b[0;32mreturn\u001b[0m \u001b[0m_backend_mod\u001b[0m\u001b[0;34m.\u001b[0m\u001b[0mshow\u001b[0m\u001b[0;34m(\u001b[0m\u001b[0;34m*\u001b[0m\u001b[0margs\u001b[0m\u001b[0;34m,\u001b[0m \u001b[0;34m**\u001b[0m\u001b[0mkwargs\u001b[0m\u001b[0;34m)\u001b[0m\u001b[0;34m\u001b[0m\u001b[0;34m\u001b[0m\u001b[0m\n\u001b[0m\u001b[1;32m    354\u001b[0m \u001b[0;34m\u001b[0m\u001b[0m\n\u001b[1;32m    355\u001b[0m \u001b[0;34m\u001b[0m\u001b[0m\n",
      "\u001b[0;32m~/anaconda3/lib/python3.8/site-packages/matplotlib/backend_bases.py\u001b[0m in \u001b[0;36mshow\u001b[0;34m(cls, block)\u001b[0m\n\u001b[1;32m   3542\u001b[0m                 \u001b[0mblock\u001b[0m \u001b[0;34m=\u001b[0m \u001b[0;32mTrue\u001b[0m\u001b[0;34m\u001b[0m\u001b[0;34m\u001b[0m\u001b[0m\n\u001b[1;32m   3543\u001b[0m         \u001b[0;32mif\u001b[0m \u001b[0mblock\u001b[0m\u001b[0;34m:\u001b[0m\u001b[0;34m\u001b[0m\u001b[0;34m\u001b[0m\u001b[0m\n\u001b[0;32m-> 3544\u001b[0;31m             \u001b[0mcls\u001b[0m\u001b[0;34m.\u001b[0m\u001b[0mmainloop\u001b[0m\u001b[0;34m(\u001b[0m\u001b[0;34m)\u001b[0m\u001b[0;34m\u001b[0m\u001b[0;34m\u001b[0m\u001b[0m\n\u001b[0m\u001b[1;32m   3545\u001b[0m \u001b[0;34m\u001b[0m\u001b[0m\n\u001b[1;32m   3546\u001b[0m     \u001b[0;31m# This method is the one actually exporting the required methods.\u001b[0m\u001b[0;34m\u001b[0m\u001b[0;34m\u001b[0m\u001b[0;34m\u001b[0m\u001b[0m\n",
      "\u001b[0;32m~/anaconda3/lib/python3.8/site-packages/matplotlib/backends/_backend_tk.py\u001b[0m in \u001b[0;36mmainloop\u001b[0;34m()\u001b[0m\n\u001b[1;32m    914\u001b[0m         \u001b[0mmanagers\u001b[0m \u001b[0;34m=\u001b[0m \u001b[0mGcf\u001b[0m\u001b[0;34m.\u001b[0m\u001b[0mget_all_fig_managers\u001b[0m\u001b[0;34m(\u001b[0m\u001b[0;34m)\u001b[0m\u001b[0;34m\u001b[0m\u001b[0;34m\u001b[0m\u001b[0m\n\u001b[1;32m    915\u001b[0m         \u001b[0;32mif\u001b[0m \u001b[0mmanagers\u001b[0m\u001b[0;34m:\u001b[0m\u001b[0;34m\u001b[0m\u001b[0;34m\u001b[0m\u001b[0m\n\u001b[0;32m--> 916\u001b[0;31m             \u001b[0mmanagers\u001b[0m\u001b[0;34m[\u001b[0m\u001b[0;36m0\u001b[0m\u001b[0;34m]\u001b[0m\u001b[0;34m.\u001b[0m\u001b[0mwindow\u001b[0m\u001b[0;34m.\u001b[0m\u001b[0mmainloop\u001b[0m\u001b[0;34m(\u001b[0m\u001b[0;34m)\u001b[0m\u001b[0;34m\u001b[0m\u001b[0;34m\u001b[0m\u001b[0m\n\u001b[0m",
      "\u001b[0;32m~/anaconda3/lib/python3.8/tkinter/__init__.py\u001b[0m in \u001b[0;36mmainloop\u001b[0;34m(self, n)\u001b[0m\n\u001b[1;32m   1427\u001b[0m     \u001b[0;32mdef\u001b[0m \u001b[0mmainloop\u001b[0m\u001b[0;34m(\u001b[0m\u001b[0mself\u001b[0m\u001b[0;34m,\u001b[0m \u001b[0mn\u001b[0m\u001b[0;34m=\u001b[0m\u001b[0;36m0\u001b[0m\u001b[0;34m)\u001b[0m\u001b[0;34m:\u001b[0m\u001b[0;34m\u001b[0m\u001b[0;34m\u001b[0m\u001b[0m\n\u001b[1;32m   1428\u001b[0m         \u001b[0;34m\"\"\"Call the mainloop of Tk.\"\"\"\u001b[0m\u001b[0;34m\u001b[0m\u001b[0;34m\u001b[0m\u001b[0m\n\u001b[0;32m-> 1429\u001b[0;31m         \u001b[0mself\u001b[0m\u001b[0;34m.\u001b[0m\u001b[0mtk\u001b[0m\u001b[0;34m.\u001b[0m\u001b[0mmainloop\u001b[0m\u001b[0;34m(\u001b[0m\u001b[0mn\u001b[0m\u001b[0;34m)\u001b[0m\u001b[0;34m\u001b[0m\u001b[0;34m\u001b[0m\u001b[0m\n\u001b[0m\u001b[1;32m   1430\u001b[0m \u001b[0;34m\u001b[0m\u001b[0m\n\u001b[1;32m   1431\u001b[0m     \u001b[0;32mdef\u001b[0m \u001b[0mquit\u001b[0m\u001b[0;34m(\u001b[0m\u001b[0mself\u001b[0m\u001b[0;34m)\u001b[0m\u001b[0;34m:\u001b[0m\u001b[0;34m\u001b[0m\u001b[0;34m\u001b[0m\u001b[0m\n",
      "\u001b[0;32m~/anaconda3/lib/python3.8/tkinter/__init__.py\u001b[0m in \u001b[0;36m_exit\u001b[0;34m(code)\u001b[0m\n\u001b[1;32m    312\u001b[0m     \u001b[0;32mexcept\u001b[0m \u001b[0mValueError\u001b[0m\u001b[0;34m:\u001b[0m\u001b[0;34m\u001b[0m\u001b[0;34m\u001b[0m\u001b[0m\n\u001b[1;32m    313\u001b[0m         \u001b[0;32mpass\u001b[0m\u001b[0;34m\u001b[0m\u001b[0;34m\u001b[0m\u001b[0m\n\u001b[0;32m--> 314\u001b[0;31m     \u001b[0;32mraise\u001b[0m \u001b[0mSystemExit\u001b[0m\u001b[0;34m(\u001b[0m\u001b[0mcode\u001b[0m\u001b[0;34m)\u001b[0m\u001b[0;34m\u001b[0m\u001b[0;34m\u001b[0m\u001b[0m\n\u001b[0m\u001b[1;32m    315\u001b[0m \u001b[0;34m\u001b[0m\u001b[0m\n\u001b[1;32m    316\u001b[0m \u001b[0;34m\u001b[0m\u001b[0m\n",
      "\u001b[0;31mSystemExit\u001b[0m: 0"
     ]
    }
   ],
   "source": [
    "%%time\n",
    "E_plot, = plt.plot(t,E, label=\"E\")\n",
    "L_plot, = plt.plot(t,L, label=\"L\")\n",
    "P_plot, = plt.plot(t,P, label=\"P\")\n",
    "A_plot, = plt.plot(t,A, label=\"A\")\n",
    "\n",
    "plt.legend(handles=[E_plot, L_plot, P_plot, A_plot])\n",
    "plt.xlabel(\"Time\")\n",
    "plt.ylabel(\"Abundance\")\n",
    "plt.show()"
   ]
  },
  {
   "cell_type": "code",
   "execution_count": null,
   "id": "b0689b7c",
   "metadata": {},
   "outputs": [],
   "source": []
  }
 ],
 "metadata": {
  "kernelspec": {
   "display_name": "Python 3 (ipykernel)",
   "language": "python",
   "name": "python3"
  },
  "language_info": {
   "codemirror_mode": {
    "name": "ipython",
    "version": 3
   },
   "file_extension": ".py",
   "mimetype": "text/x-python",
   "name": "python",
   "nbconvert_exporter": "python",
   "pygments_lexer": "ipython3",
   "version": "3.8.10"
  }
 },
 "nbformat": 4,
 "nbformat_minor": 5
}
